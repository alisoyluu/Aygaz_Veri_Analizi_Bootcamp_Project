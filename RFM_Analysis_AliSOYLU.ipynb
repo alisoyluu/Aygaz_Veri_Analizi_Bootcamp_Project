{
  "nbformat": 4,
  "nbformat_minor": 0,
  "metadata": {
    "colab": {
      "provenance": []
    },
    "kernelspec": {
      "name": "python3",
      "display_name": "Python 3"
    },
    "language_info": {
      "name": "python"
    }
  },
  "cells": [
    {
      "cell_type": "code",
      "source": [
        "!pip install opendatasets"
      ],
      "metadata": {
        "colab": {
          "base_uri": "https://localhost:8080/"
        },
        "id": "gVU05voW1LDB",
        "outputId": "720a217b-ca44-4702-adc6-0e3140f76382"
      },
      "execution_count": null,
      "outputs": [
        {
          "output_type": "stream",
          "name": "stdout",
          "text": [
            "Collecting opendatasets\n",
            "  Downloading opendatasets-0.1.22-py3-none-any.whl.metadata (9.2 kB)\n",
            "Requirement already satisfied: tqdm in /usr/local/lib/python3.10/dist-packages (from opendatasets) (4.66.5)\n",
            "Requirement already satisfied: kaggle in /usr/local/lib/python3.10/dist-packages (from opendatasets) (1.6.17)\n",
            "Requirement already satisfied: click in /usr/local/lib/python3.10/dist-packages (from opendatasets) (8.1.7)\n",
            "Requirement already satisfied: six>=1.10 in /usr/local/lib/python3.10/dist-packages (from kaggle->opendatasets) (1.16.0)\n",
            "Requirement already satisfied: certifi>=2023.7.22 in /usr/local/lib/python3.10/dist-packages (from kaggle->opendatasets) (2024.8.30)\n",
            "Requirement already satisfied: python-dateutil in /usr/local/lib/python3.10/dist-packages (from kaggle->opendatasets) (2.8.2)\n",
            "Requirement already satisfied: requests in /usr/local/lib/python3.10/dist-packages (from kaggle->opendatasets) (2.32.3)\n",
            "Requirement already satisfied: python-slugify in /usr/local/lib/python3.10/dist-packages (from kaggle->opendatasets) (8.0.4)\n",
            "Requirement already satisfied: urllib3 in /usr/local/lib/python3.10/dist-packages (from kaggle->opendatasets) (2.2.3)\n",
            "Requirement already satisfied: bleach in /usr/local/lib/python3.10/dist-packages (from kaggle->opendatasets) (6.1.0)\n",
            "Requirement already satisfied: webencodings in /usr/local/lib/python3.10/dist-packages (from bleach->kaggle->opendatasets) (0.5.1)\n",
            "Requirement already satisfied: text-unidecode>=1.3 in /usr/local/lib/python3.10/dist-packages (from python-slugify->kaggle->opendatasets) (1.3)\n",
            "Requirement already satisfied: charset-normalizer<4,>=2 in /usr/local/lib/python3.10/dist-packages (from requests->kaggle->opendatasets) (3.4.0)\n",
            "Requirement already satisfied: idna<4,>=2.5 in /usr/local/lib/python3.10/dist-packages (from requests->kaggle->opendatasets) (3.10)\n",
            "Downloading opendatasets-0.1.22-py3-none-any.whl (15 kB)\n",
            "Installing collected packages: opendatasets\n",
            "Successfully installed opendatasets-0.1.22\n"
          ]
        }
      ]
    },
    {
      "cell_type": "code",
      "source": [
        "import opendatasets as od\n",
        "od.download(\"https://www.kaggle.com/datasets/aadityagaikwad/online-retail-uci\")"
      ],
      "metadata": {
        "colab": {
          "base_uri": "https://localhost:8080/"
        },
        "id": "XSI6CcSC1P2H",
        "outputId": "9e944e01-54af-4619-db62-57c9e5276a25"
      },
      "execution_count": null,
      "outputs": [
        {
          "output_type": "stream",
          "name": "stdout",
          "text": [
            "Please provide your Kaggle credentials to download this dataset. Learn more: http://bit.ly/kaggle-creds\n",
            "Your Kaggle username: alisoyluu\n",
            "Your Kaggle Key: ··········\n",
            "Dataset URL: https://www.kaggle.com/datasets/aadityagaikwad/online-retail-uci\n",
            "Downloading online-retail-uci.zip to ./online-retail-uci\n"
          ]
        },
        {
          "output_type": "stream",
          "name": "stderr",
          "text": [
            "100%|██████████| 21.8M/21.8M [00:00<00:00, 152MB/s]"
          ]
        },
        {
          "output_type": "stream",
          "name": "stdout",
          "text": [
            "\n"
          ]
        },
        {
          "output_type": "stream",
          "name": "stderr",
          "text": [
            "\n"
          ]
        }
      ]
    },
    {
      "cell_type": "code",
      "source": [
        "import pandas as pd\n",
        "data = pd.read_excel(\"/content/online-retail-uci/Online Retail.xlsx\")"
      ],
      "metadata": {
        "id": "-Mvzsjew1o7i"
      },
      "execution_count": null,
      "outputs": []
    },
    {
      "cell_type": "code",
      "source": [
        "data.head()"
      ],
      "metadata": {
        "id": "MufRp3zz2GD7",
        "outputId": "f21653aa-2442-44fb-e936-b1531c10c0db",
        "colab": {
          "base_uri": "https://localhost:8080/",
          "height": 206
        }
      },
      "execution_count": null,
      "outputs": [
        {
          "output_type": "execute_result",
          "data": {
            "text/plain": [
              "  InvoiceNo StockCode                          Description  Quantity  \\\n",
              "0    536365    85123A   WHITE HANGING HEART T-LIGHT HOLDER         6   \n",
              "1    536365     71053                  WHITE METAL LANTERN         6   \n",
              "2    536365    84406B       CREAM CUPID HEARTS COAT HANGER         8   \n",
              "3    536365    84029G  KNITTED UNION FLAG HOT WATER BOTTLE         6   \n",
              "4    536365    84029E       RED WOOLLY HOTTIE WHITE HEART.         6   \n",
              "\n",
              "          InvoiceDate  UnitPrice  CustomerID         Country  \n",
              "0 2010-12-01 08:26:00       2.55     17850.0  United Kingdom  \n",
              "1 2010-12-01 08:26:00       3.39     17850.0  United Kingdom  \n",
              "2 2010-12-01 08:26:00       2.75     17850.0  United Kingdom  \n",
              "3 2010-12-01 08:26:00       3.39     17850.0  United Kingdom  \n",
              "4 2010-12-01 08:26:00       3.39     17850.0  United Kingdom  "
            ],
            "text/html": [
              "\n",
              "  <div id=\"df-f6bb7f6e-b969-4966-8a36-fbe2a427517b\" class=\"colab-df-container\">\n",
              "    <div>\n",
              "<style scoped>\n",
              "    .dataframe tbody tr th:only-of-type {\n",
              "        vertical-align: middle;\n",
              "    }\n",
              "\n",
              "    .dataframe tbody tr th {\n",
              "        vertical-align: top;\n",
              "    }\n",
              "\n",
              "    .dataframe thead th {\n",
              "        text-align: right;\n",
              "    }\n",
              "</style>\n",
              "<table border=\"1\" class=\"dataframe\">\n",
              "  <thead>\n",
              "    <tr style=\"text-align: right;\">\n",
              "      <th></th>\n",
              "      <th>InvoiceNo</th>\n",
              "      <th>StockCode</th>\n",
              "      <th>Description</th>\n",
              "      <th>Quantity</th>\n",
              "      <th>InvoiceDate</th>\n",
              "      <th>UnitPrice</th>\n",
              "      <th>CustomerID</th>\n",
              "      <th>Country</th>\n",
              "    </tr>\n",
              "  </thead>\n",
              "  <tbody>\n",
              "    <tr>\n",
              "      <th>0</th>\n",
              "      <td>536365</td>\n",
              "      <td>85123A</td>\n",
              "      <td>WHITE HANGING HEART T-LIGHT HOLDER</td>\n",
              "      <td>6</td>\n",
              "      <td>2010-12-01 08:26:00</td>\n",
              "      <td>2.55</td>\n",
              "      <td>17850.0</td>\n",
              "      <td>United Kingdom</td>\n",
              "    </tr>\n",
              "    <tr>\n",
              "      <th>1</th>\n",
              "      <td>536365</td>\n",
              "      <td>71053</td>\n",
              "      <td>WHITE METAL LANTERN</td>\n",
              "      <td>6</td>\n",
              "      <td>2010-12-01 08:26:00</td>\n",
              "      <td>3.39</td>\n",
              "      <td>17850.0</td>\n",
              "      <td>United Kingdom</td>\n",
              "    </tr>\n",
              "    <tr>\n",
              "      <th>2</th>\n",
              "      <td>536365</td>\n",
              "      <td>84406B</td>\n",
              "      <td>CREAM CUPID HEARTS COAT HANGER</td>\n",
              "      <td>8</td>\n",
              "      <td>2010-12-01 08:26:00</td>\n",
              "      <td>2.75</td>\n",
              "      <td>17850.0</td>\n",
              "      <td>United Kingdom</td>\n",
              "    </tr>\n",
              "    <tr>\n",
              "      <th>3</th>\n",
              "      <td>536365</td>\n",
              "      <td>84029G</td>\n",
              "      <td>KNITTED UNION FLAG HOT WATER BOTTLE</td>\n",
              "      <td>6</td>\n",
              "      <td>2010-12-01 08:26:00</td>\n",
              "      <td>3.39</td>\n",
              "      <td>17850.0</td>\n",
              "      <td>United Kingdom</td>\n",
              "    </tr>\n",
              "    <tr>\n",
              "      <th>4</th>\n",
              "      <td>536365</td>\n",
              "      <td>84029E</td>\n",
              "      <td>RED WOOLLY HOTTIE WHITE HEART.</td>\n",
              "      <td>6</td>\n",
              "      <td>2010-12-01 08:26:00</td>\n",
              "      <td>3.39</td>\n",
              "      <td>17850.0</td>\n",
              "      <td>United Kingdom</td>\n",
              "    </tr>\n",
              "  </tbody>\n",
              "</table>\n",
              "</div>\n",
              "    <div class=\"colab-df-buttons\">\n",
              "\n",
              "  <div class=\"colab-df-container\">\n",
              "    <button class=\"colab-df-convert\" onclick=\"convertToInteractive('df-f6bb7f6e-b969-4966-8a36-fbe2a427517b')\"\n",
              "            title=\"Convert this dataframe to an interactive table.\"\n",
              "            style=\"display:none;\">\n",
              "\n",
              "  <svg xmlns=\"http://www.w3.org/2000/svg\" height=\"24px\" viewBox=\"0 -960 960 960\">\n",
              "    <path d=\"M120-120v-720h720v720H120Zm60-500h600v-160H180v160Zm220 220h160v-160H400v160Zm0 220h160v-160H400v160ZM180-400h160v-160H180v160Zm440 0h160v-160H620v160ZM180-180h160v-160H180v160Zm440 0h160v-160H620v160Z\"/>\n",
              "  </svg>\n",
              "    </button>\n",
              "\n",
              "  <style>\n",
              "    .colab-df-container {\n",
              "      display:flex;\n",
              "      gap: 12px;\n",
              "    }\n",
              "\n",
              "    .colab-df-convert {\n",
              "      background-color: #E8F0FE;\n",
              "      border: none;\n",
              "      border-radius: 50%;\n",
              "      cursor: pointer;\n",
              "      display: none;\n",
              "      fill: #1967D2;\n",
              "      height: 32px;\n",
              "      padding: 0 0 0 0;\n",
              "      width: 32px;\n",
              "    }\n",
              "\n",
              "    .colab-df-convert:hover {\n",
              "      background-color: #E2EBFA;\n",
              "      box-shadow: 0px 1px 2px rgba(60, 64, 67, 0.3), 0px 1px 3px 1px rgba(60, 64, 67, 0.15);\n",
              "      fill: #174EA6;\n",
              "    }\n",
              "\n",
              "    .colab-df-buttons div {\n",
              "      margin-bottom: 4px;\n",
              "    }\n",
              "\n",
              "    [theme=dark] .colab-df-convert {\n",
              "      background-color: #3B4455;\n",
              "      fill: #D2E3FC;\n",
              "    }\n",
              "\n",
              "    [theme=dark] .colab-df-convert:hover {\n",
              "      background-color: #434B5C;\n",
              "      box-shadow: 0px 1px 3px 1px rgba(0, 0, 0, 0.15);\n",
              "      filter: drop-shadow(0px 1px 2px rgba(0, 0, 0, 0.3));\n",
              "      fill: #FFFFFF;\n",
              "    }\n",
              "  </style>\n",
              "\n",
              "    <script>\n",
              "      const buttonEl =\n",
              "        document.querySelector('#df-f6bb7f6e-b969-4966-8a36-fbe2a427517b button.colab-df-convert');\n",
              "      buttonEl.style.display =\n",
              "        google.colab.kernel.accessAllowed ? 'block' : 'none';\n",
              "\n",
              "      async function convertToInteractive(key) {\n",
              "        const element = document.querySelector('#df-f6bb7f6e-b969-4966-8a36-fbe2a427517b');\n",
              "        const dataTable =\n",
              "          await google.colab.kernel.invokeFunction('convertToInteractive',\n",
              "                                                    [key], {});\n",
              "        if (!dataTable) return;\n",
              "\n",
              "        const docLinkHtml = 'Like what you see? Visit the ' +\n",
              "          '<a target=\"_blank\" href=https://colab.research.google.com/notebooks/data_table.ipynb>data table notebook</a>'\n",
              "          + ' to learn more about interactive tables.';\n",
              "        element.innerHTML = '';\n",
              "        dataTable['output_type'] = 'display_data';\n",
              "        await google.colab.output.renderOutput(dataTable, element);\n",
              "        const docLink = document.createElement('div');\n",
              "        docLink.innerHTML = docLinkHtml;\n",
              "        element.appendChild(docLink);\n",
              "      }\n",
              "    </script>\n",
              "  </div>\n",
              "\n",
              "\n",
              "<div id=\"df-a4e02a32-3189-49dd-acdc-0da8603403b6\">\n",
              "  <button class=\"colab-df-quickchart\" onclick=\"quickchart('df-a4e02a32-3189-49dd-acdc-0da8603403b6')\"\n",
              "            title=\"Suggest charts\"\n",
              "            style=\"display:none;\">\n",
              "\n",
              "<svg xmlns=\"http://www.w3.org/2000/svg\" height=\"24px\"viewBox=\"0 0 24 24\"\n",
              "     width=\"24px\">\n",
              "    <g>\n",
              "        <path d=\"M19 3H5c-1.1 0-2 .9-2 2v14c0 1.1.9 2 2 2h14c1.1 0 2-.9 2-2V5c0-1.1-.9-2-2-2zM9 17H7v-7h2v7zm4 0h-2V7h2v10zm4 0h-2v-4h2v4z\"/>\n",
              "    </g>\n",
              "</svg>\n",
              "  </button>\n",
              "\n",
              "<style>\n",
              "  .colab-df-quickchart {\n",
              "      --bg-color: #E8F0FE;\n",
              "      --fill-color: #1967D2;\n",
              "      --hover-bg-color: #E2EBFA;\n",
              "      --hover-fill-color: #174EA6;\n",
              "      --disabled-fill-color: #AAA;\n",
              "      --disabled-bg-color: #DDD;\n",
              "  }\n",
              "\n",
              "  [theme=dark] .colab-df-quickchart {\n",
              "      --bg-color: #3B4455;\n",
              "      --fill-color: #D2E3FC;\n",
              "      --hover-bg-color: #434B5C;\n",
              "      --hover-fill-color: #FFFFFF;\n",
              "      --disabled-bg-color: #3B4455;\n",
              "      --disabled-fill-color: #666;\n",
              "  }\n",
              "\n",
              "  .colab-df-quickchart {\n",
              "    background-color: var(--bg-color);\n",
              "    border: none;\n",
              "    border-radius: 50%;\n",
              "    cursor: pointer;\n",
              "    display: none;\n",
              "    fill: var(--fill-color);\n",
              "    height: 32px;\n",
              "    padding: 0;\n",
              "    width: 32px;\n",
              "  }\n",
              "\n",
              "  .colab-df-quickchart:hover {\n",
              "    background-color: var(--hover-bg-color);\n",
              "    box-shadow: 0 1px 2px rgba(60, 64, 67, 0.3), 0 1px 3px 1px rgba(60, 64, 67, 0.15);\n",
              "    fill: var(--button-hover-fill-color);\n",
              "  }\n",
              "\n",
              "  .colab-df-quickchart-complete:disabled,\n",
              "  .colab-df-quickchart-complete:disabled:hover {\n",
              "    background-color: var(--disabled-bg-color);\n",
              "    fill: var(--disabled-fill-color);\n",
              "    box-shadow: none;\n",
              "  }\n",
              "\n",
              "  .colab-df-spinner {\n",
              "    border: 2px solid var(--fill-color);\n",
              "    border-color: transparent;\n",
              "    border-bottom-color: var(--fill-color);\n",
              "    animation:\n",
              "      spin 1s steps(1) infinite;\n",
              "  }\n",
              "\n",
              "  @keyframes spin {\n",
              "    0% {\n",
              "      border-color: transparent;\n",
              "      border-bottom-color: var(--fill-color);\n",
              "      border-left-color: var(--fill-color);\n",
              "    }\n",
              "    20% {\n",
              "      border-color: transparent;\n",
              "      border-left-color: var(--fill-color);\n",
              "      border-top-color: var(--fill-color);\n",
              "    }\n",
              "    30% {\n",
              "      border-color: transparent;\n",
              "      border-left-color: var(--fill-color);\n",
              "      border-top-color: var(--fill-color);\n",
              "      border-right-color: var(--fill-color);\n",
              "    }\n",
              "    40% {\n",
              "      border-color: transparent;\n",
              "      border-right-color: var(--fill-color);\n",
              "      border-top-color: var(--fill-color);\n",
              "    }\n",
              "    60% {\n",
              "      border-color: transparent;\n",
              "      border-right-color: var(--fill-color);\n",
              "    }\n",
              "    80% {\n",
              "      border-color: transparent;\n",
              "      border-right-color: var(--fill-color);\n",
              "      border-bottom-color: var(--fill-color);\n",
              "    }\n",
              "    90% {\n",
              "      border-color: transparent;\n",
              "      border-bottom-color: var(--fill-color);\n",
              "    }\n",
              "  }\n",
              "</style>\n",
              "\n",
              "  <script>\n",
              "    async function quickchart(key) {\n",
              "      const quickchartButtonEl =\n",
              "        document.querySelector('#' + key + ' button');\n",
              "      quickchartButtonEl.disabled = true;  // To prevent multiple clicks.\n",
              "      quickchartButtonEl.classList.add('colab-df-spinner');\n",
              "      try {\n",
              "        const charts = await google.colab.kernel.invokeFunction(\n",
              "            'suggestCharts', [key], {});\n",
              "      } catch (error) {\n",
              "        console.error('Error during call to suggestCharts:', error);\n",
              "      }\n",
              "      quickchartButtonEl.classList.remove('colab-df-spinner');\n",
              "      quickchartButtonEl.classList.add('colab-df-quickchart-complete');\n",
              "    }\n",
              "    (() => {\n",
              "      let quickchartButtonEl =\n",
              "        document.querySelector('#df-a4e02a32-3189-49dd-acdc-0da8603403b6 button');\n",
              "      quickchartButtonEl.style.display =\n",
              "        google.colab.kernel.accessAllowed ? 'block' : 'none';\n",
              "    })();\n",
              "  </script>\n",
              "</div>\n",
              "\n",
              "    </div>\n",
              "  </div>\n"
            ],
            "application/vnd.google.colaboratory.intrinsic+json": {
              "type": "dataframe",
              "variable_name": "data"
            }
          },
          "metadata": {},
          "execution_count": 4
        }
      ]
    },
    {
      "cell_type": "code",
      "source": [
        "veri=data.copy()\n",
        "print(veri)"
      ],
      "metadata": {
        "colab": {
          "base_uri": "https://localhost:8080/"
        },
        "id": "5ZWqlJjRkDdq",
        "outputId": "93495892-97d8-4544-d5eb-094602fbdb18"
      },
      "execution_count": null,
      "outputs": [
        {
          "output_type": "stream",
          "name": "stdout",
          "text": [
            "       InvoiceNo StockCode                          Description  Quantity  \\\n",
            "0         536365    85123A   WHITE HANGING HEART T-LIGHT HOLDER         6   \n",
            "1         536365     71053                  WHITE METAL LANTERN         6   \n",
            "2         536365    84406B       CREAM CUPID HEARTS COAT HANGER         8   \n",
            "3         536365    84029G  KNITTED UNION FLAG HOT WATER BOTTLE         6   \n",
            "4         536365    84029E       RED WOOLLY HOTTIE WHITE HEART.         6   \n",
            "...          ...       ...                                  ...       ...   \n",
            "541904    581587     22613          PACK OF 20 SPACEBOY NAPKINS        12   \n",
            "541905    581587     22899         CHILDREN'S APRON DOLLY GIRL          6   \n",
            "541906    581587     23254        CHILDRENS CUTLERY DOLLY GIRL          4   \n",
            "541907    581587     23255      CHILDRENS CUTLERY CIRCUS PARADE         4   \n",
            "541908    581587     22138        BAKING SET 9 PIECE RETROSPOT          3   \n",
            "\n",
            "               InvoiceDate  UnitPrice  CustomerID         Country  \n",
            "0      2010-12-01 08:26:00       2.55     17850.0  United Kingdom  \n",
            "1      2010-12-01 08:26:00       3.39     17850.0  United Kingdom  \n",
            "2      2010-12-01 08:26:00       2.75     17850.0  United Kingdom  \n",
            "3      2010-12-01 08:26:00       3.39     17850.0  United Kingdom  \n",
            "4      2010-12-01 08:26:00       3.39     17850.0  United Kingdom  \n",
            "...                    ...        ...         ...             ...  \n",
            "541904 2011-12-09 12:50:00       0.85     12680.0          France  \n",
            "541905 2011-12-09 12:50:00       2.10     12680.0          France  \n",
            "541906 2011-12-09 12:50:00       4.15     12680.0          France  \n",
            "541907 2011-12-09 12:50:00       4.15     12680.0          France  \n",
            "541908 2011-12-09 12:50:00       4.95     12680.0          France  \n",
            "\n",
            "[541909 rows x 8 columns]\n"
          ]
        }
      ]
    },
    {
      "cell_type": "markdown",
      "source": [
        "Öncelikle bu e-ticaret verisetinden bir RFM tablosu çıkartmaya çalışacağız. Bunun için birtakım veri düzenleme ve veri manipülasyonları yapacağız."
      ],
      "metadata": {
        "id": "SAJ5Rkorl_dp"
      }
    },
    {
      "cell_type": "markdown",
      "source": [
        "Öncelikle eksik gözlem değerlerimiz olup olmadığına bakalım."
      ],
      "metadata": {
        "id": "s42QYg1ZmK1Y"
      }
    },
    {
      "cell_type": "code",
      "source": [
        " print(veri.isnull().sum())"
      ],
      "metadata": {
        "colab": {
          "base_uri": "https://localhost:8080/"
        },
        "id": "BBJstrDnmPdC",
        "outputId": "0d62a744-f436-4e6e-9394-4cbbb72ec21e"
      },
      "execution_count": null,
      "outputs": [
        {
          "output_type": "stream",
          "name": "stdout",
          "text": [
            "InvoiceNo           0\n",
            "StockCode           0\n",
            "Description      1454\n",
            "Quantity            0\n",
            "InvoiceDate         0\n",
            "UnitPrice           0\n",
            "CustomerID     135080\n",
            "Country             0\n",
            "dtype: int64\n"
          ]
        }
      ]
    },
    {
      "cell_type": "markdown",
      "source": [
        "Description değişkenine ait 1454, CustomerID değişkenine ait ise 135080 eksik gözlem görünmekte. Bu değişkenler bizim RFM tablomuzu etkileyebilecek değişkenler olmadığından en etkili ve hızlı yöntem bunları verisetimizden çıkarmaktır. Bunu yapalım."
      ],
      "metadata": {
        "id": "_TPmXBmImbUG"
      }
    },
    {
      "cell_type": "code",
      "source": [
        "veri=veri.dropna()"
      ],
      "metadata": {
        "id": "fBClK-vXnegX"
      },
      "execution_count": null,
      "outputs": []
    },
    {
      "cell_type": "markdown",
      "source": [
        "Şimdi tekrar bakalım eksik değerler kaldırılmış mı?"
      ],
      "metadata": {
        "id": "3keXnC7Vnn0-"
      }
    },
    {
      "cell_type": "code",
      "source": [
        " print(veri.isnull().sum())"
      ],
      "metadata": {
        "colab": {
          "base_uri": "https://localhost:8080/"
        },
        "id": "McQTbr_Qnj75",
        "outputId": "2142eeb8-8575-438e-fa2d-b625b227bc0f"
      },
      "execution_count": null,
      "outputs": [
        {
          "output_type": "stream",
          "name": "stdout",
          "text": [
            "InvoiceNo      0\n",
            "StockCode      0\n",
            "Description    0\n",
            "Quantity       0\n",
            "InvoiceDate    0\n",
            "UnitPrice      0\n",
            "CustomerID     0\n",
            "Country        0\n",
            "dtype: int64\n"
          ]
        }
      ]
    },
    {
      "cell_type": "markdown",
      "source": [
        "Yukarıda gördüğümüz üzere eksik değerimiz kalmadı verisetinde."
      ],
      "metadata": {
        "id": "zi2Zaqa0nryn"
      }
    },
    {
      "cell_type": "markdown",
      "source": [
        "RFM tablosunun parametrelerinden biri olan Monetary(Müşterinin firmadan yaptığı total alışveriş tutarı) mevcut verisetinde yok. Bu sebeple biz eldeki verilerden bunu sağlayacağız. Quantity ( Satın alınan adet) ile UnitPrice değişlkenlerini her satır için ayrı ayrı çarptığımızda müşterinin ilgili satırdaki alışverişte ne kadar harcadığını buluruz. Bunları yeni bir değişken olarak (Total) atayalım."
      ],
      "metadata": {
        "id": "wauw-dMoe1dK"
      }
    },
    {
      "cell_type": "code",
      "source": [
        "veri[\"Total\"]=veri[\"Quantity\"]*veri[\"UnitPrice\"]"
      ],
      "metadata": {
        "id": "2D6weQ6To2aK"
      },
      "execution_count": null,
      "outputs": []
    },
    {
      "cell_type": "code",
      "source": [
        "print(veri)"
      ],
      "metadata": {
        "colab": {
          "base_uri": "https://localhost:8080/"
        },
        "id": "JV1J0KCTo9Sr",
        "outputId": "855ab2d9-09c7-4a80-a2ce-b024ef99ebcd"
      },
      "execution_count": null,
      "outputs": [
        {
          "output_type": "stream",
          "name": "stdout",
          "text": [
            "       InvoiceNo StockCode                          Description  Quantity  \\\n",
            "0         536365    85123A   WHITE HANGING HEART T-LIGHT HOLDER         6   \n",
            "1         536365     71053                  WHITE METAL LANTERN         6   \n",
            "2         536365    84406B       CREAM CUPID HEARTS COAT HANGER         8   \n",
            "3         536365    84029G  KNITTED UNION FLAG HOT WATER BOTTLE         6   \n",
            "4         536365    84029E       RED WOOLLY HOTTIE WHITE HEART.         6   \n",
            "...          ...       ...                                  ...       ...   \n",
            "541904    581587     22613          PACK OF 20 SPACEBOY NAPKINS        12   \n",
            "541905    581587     22899         CHILDREN'S APRON DOLLY GIRL          6   \n",
            "541906    581587     23254        CHILDRENS CUTLERY DOLLY GIRL          4   \n",
            "541907    581587     23255      CHILDRENS CUTLERY CIRCUS PARADE         4   \n",
            "541908    581587     22138        BAKING SET 9 PIECE RETROSPOT          3   \n",
            "\n",
            "               InvoiceDate  UnitPrice  CustomerID         Country  Total  \n",
            "0      2010-12-01 08:26:00       2.55     17850.0  United Kingdom  15.30  \n",
            "1      2010-12-01 08:26:00       3.39     17850.0  United Kingdom  20.34  \n",
            "2      2010-12-01 08:26:00       2.75     17850.0  United Kingdom  22.00  \n",
            "3      2010-12-01 08:26:00       3.39     17850.0  United Kingdom  20.34  \n",
            "4      2010-12-01 08:26:00       3.39     17850.0  United Kingdom  20.34  \n",
            "...                    ...        ...         ...             ...    ...  \n",
            "541904 2011-12-09 12:50:00       0.85     12680.0          France  10.20  \n",
            "541905 2011-12-09 12:50:00       2.10     12680.0          France  12.60  \n",
            "541906 2011-12-09 12:50:00       4.15     12680.0          France  16.60  \n",
            "541907 2011-12-09 12:50:00       4.15     12680.0          France  16.60  \n",
            "541908 2011-12-09 12:50:00       4.95     12680.0          France  14.85  \n",
            "\n",
            "[406829 rows x 9 columns]\n"
          ]
        }
      ]
    },
    {
      "cell_type": "markdown",
      "source": [
        "Şimdi verisetimizde hatalı veri girişi olup olmadığını tespit etmeye çalışalım. Örneğin Total değişkeni 0 ya da negatif bir değer almış mı herhangi bir satırda buna bakalım. Çünkü Total değişkeni toplam harcama tutarı olduğundan ve ortada bir alışveriş olduğundan bu değer 0 ya da negatif bir değer olamaz."
      ],
      "metadata": {
        "id": "2ikSI2xkpNLR"
      }
    },
    {
      "cell_type": "code",
      "source": [
        "print(veri[veri[\"Total\"]<=0])"
      ],
      "metadata": {
        "colab": {
          "base_uri": "https://localhost:8080/"
        },
        "id": "ktJFrTzgo_j4",
        "outputId": "78ec52a9-9aa3-41c3-ac80-3afd49afd31d"
      },
      "execution_count": null,
      "outputs": [
        {
          "output_type": "stream",
          "name": "stdout",
          "text": [
            "       InvoiceNo StockCode                       Description  Quantity  \\\n",
            "141      C536379         D                          Discount        -1   \n",
            "154      C536383    35004C   SET OF 3 COLOURED  FLYING DUCKS        -1   \n",
            "235      C536391     22556    PLASTERS IN TIN CIRCUS PARADE        -12   \n",
            "236      C536391     21984  PACK OF 12 PINK PAISLEY TISSUES        -24   \n",
            "237      C536391     21983  PACK OF 12 BLUE PAISLEY TISSUES        -24   \n",
            "...          ...       ...                               ...       ...   \n",
            "540449   C581490     23144   ZINC T-LIGHT HOLDER STARS SMALL       -11   \n",
            "541541   C581499         M                            Manual        -1   \n",
            "541715   C581568     21258        VICTORIAN SEWING BOX LARGE        -5   \n",
            "541716   C581569     84978  HANGING HEART JAR T-LIGHT HOLDER        -1   \n",
            "541717   C581569     20979     36 PENCILS TUBE RED RETROSPOT        -5   \n",
            "\n",
            "               InvoiceDate  UnitPrice  CustomerID         Country   Total  \n",
            "141    2010-12-01 09:41:00      27.50     14527.0  United Kingdom  -27.50  \n",
            "154    2010-12-01 09:49:00       4.65     15311.0  United Kingdom   -4.65  \n",
            "235    2010-12-01 10:24:00       1.65     17548.0  United Kingdom  -19.80  \n",
            "236    2010-12-01 10:24:00       0.29     17548.0  United Kingdom   -6.96  \n",
            "237    2010-12-01 10:24:00       0.29     17548.0  United Kingdom   -6.96  \n",
            "...                    ...        ...         ...             ...     ...  \n",
            "540449 2011-12-09 09:57:00       0.83     14397.0  United Kingdom   -9.13  \n",
            "541541 2011-12-09 10:28:00     224.69     15498.0  United Kingdom -224.69  \n",
            "541715 2011-12-09 11:57:00      10.95     15311.0  United Kingdom  -54.75  \n",
            "541716 2011-12-09 11:58:00       1.25     17315.0  United Kingdom   -1.25  \n",
            "541717 2011-12-09 11:58:00       1.25     17315.0  United Kingdom   -6.25  \n",
            "\n",
            "[8945 rows x 9 columns]\n"
          ]
        }
      ]
    },
    {
      "cell_type": "markdown",
      "source": [
        "Yukarıda bahsettiğimiz şekilde Total değişkeni 0 ya da daha küçük olan 8945 satır olduğunu gözlemledik. Burada dikkatimizi şu çekmekte. Bu 8945 satırın tamamının InvoiceNo değişkeni \"C\" ile başlamakta. Verisetimize ait verilen ön bilgide \"C\" ile başlayan satırların iptel siparişlere ait olduğunu gözlemlemiştik. Dolayısı ile bu satırları verisetinden çıkarmamız gerekir."
      ],
      "metadata": {
        "id": "L5lZyKt2qSY0"
      }
    },
    {
      "cell_type": "code",
      "source": [
        "veri=veri.drop(veri[veri[\"Total\"]<=0].index)"
      ],
      "metadata": {
        "id": "rJDsPVtmrIWo"
      },
      "execution_count": null,
      "outputs": []
    },
    {
      "cell_type": "code",
      "source": [
        "print(veri)"
      ],
      "metadata": {
        "colab": {
          "base_uri": "https://localhost:8080/"
        },
        "id": "nwFpRqpksRc6",
        "outputId": "ce138451-bacf-49bd-9b81-6c27493ea6df"
      },
      "execution_count": null,
      "outputs": [
        {
          "output_type": "stream",
          "name": "stdout",
          "text": [
            "       InvoiceNo StockCode                          Description  Quantity  \\\n",
            "0         536365    85123A   WHITE HANGING HEART T-LIGHT HOLDER         6   \n",
            "1         536365     71053                  WHITE METAL LANTERN         6   \n",
            "2         536365    84406B       CREAM CUPID HEARTS COAT HANGER         8   \n",
            "3         536365    84029G  KNITTED UNION FLAG HOT WATER BOTTLE         6   \n",
            "4         536365    84029E       RED WOOLLY HOTTIE WHITE HEART.         6   \n",
            "...          ...       ...                                  ...       ...   \n",
            "541904    581587     22613          PACK OF 20 SPACEBOY NAPKINS        12   \n",
            "541905    581587     22899         CHILDREN'S APRON DOLLY GIRL          6   \n",
            "541906    581587     23254        CHILDRENS CUTLERY DOLLY GIRL          4   \n",
            "541907    581587     23255      CHILDRENS CUTLERY CIRCUS PARADE         4   \n",
            "541908    581587     22138        BAKING SET 9 PIECE RETROSPOT          3   \n",
            "\n",
            "               InvoiceDate  UnitPrice  CustomerID         Country  Total  \n",
            "0      2010-12-01 08:26:00       2.55     17850.0  United Kingdom  15.30  \n",
            "1      2010-12-01 08:26:00       3.39     17850.0  United Kingdom  20.34  \n",
            "2      2010-12-01 08:26:00       2.75     17850.0  United Kingdom  22.00  \n",
            "3      2010-12-01 08:26:00       3.39     17850.0  United Kingdom  20.34  \n",
            "4      2010-12-01 08:26:00       3.39     17850.0  United Kingdom  20.34  \n",
            "...                    ...        ...         ...             ...    ...  \n",
            "541904 2011-12-09 12:50:00       0.85     12680.0          France  10.20  \n",
            "541905 2011-12-09 12:50:00       2.10     12680.0          France  12.60  \n",
            "541906 2011-12-09 12:50:00       4.15     12680.0          France  16.60  \n",
            "541907 2011-12-09 12:50:00       4.15     12680.0          France  16.60  \n",
            "541908 2011-12-09 12:50:00       4.95     12680.0          France  14.85  \n",
            "\n",
            "[397884 rows x 9 columns]\n"
          ]
        }
      ]
    },
    {
      "cell_type": "code",
      "source": [
        "print(veri[veri[\"Total\"]<=0])"
      ],
      "metadata": {
        "colab": {
          "base_uri": "https://localhost:8080/"
        },
        "id": "DYghzZrTspaT",
        "outputId": "9724e190-9427-456a-f345-d6f17eccf0f2"
      },
      "execution_count": null,
      "outputs": [
        {
          "output_type": "stream",
          "name": "stdout",
          "text": [
            "Empty DataFrame\n",
            "Columns: [InvoiceNo, StockCode, Description, Quantity, InvoiceDate, UnitPrice, CustomerID, Country, Total]\n",
            "Index: []\n"
          ]
        }
      ]
    },
    {
      "cell_type": "markdown",
      "source": [
        "Total değişkeninde aykırı gözlem değeri var mı bakalım."
      ],
      "metadata": {
        "id": "QS4zSlY7st6j"
      }
    },
    {
      "cell_type": "code",
      "source": [
        "import matplotlib.pyplot as plt\n",
        "import seaborn as sns"
      ],
      "metadata": {
        "id": "977Pxi5Zsycn"
      },
      "execution_count": null,
      "outputs": []
    },
    {
      "cell_type": "code",
      "source": [
        "sns.boxplot(veri[\"Total\"])\n",
        "plt.show()"
      ],
      "metadata": {
        "colab": {
          "base_uri": "https://localhost:8080/",
          "height": 413
        },
        "id": "exT5HMoltOwk",
        "outputId": "65bf54a3-d870-4868-a047-a86a429a7780"
      },
      "execution_count": null,
      "outputs": [
        {
          "output_type": "display_data",
          "data": {
            "text/plain": [
              "<Figure size 640x480 with 1 Axes>"
            ],
            "image/png": "[encoded data removed]"
          },
          "metadata": {}
        }
      ]
    },
    {
      "cell_type": "markdown",
      "source": [
        "Yukarıda gördüğümüz üzere aykırı gözlemler mevcut. Aykırı değerlerden kurtulmaya çalışalım. Öncelikle çeyrekliklerin sınırlarını belirleyelim.\n",
        "\n"
      ],
      "metadata": {
        "id": "13GiKN9rth9J"
      }
    },
    {
      "cell_type": "code",
      "source": [
        "Q1=veri[\"Total\"].quantile(0.25)\n",
        "Q3=veri[\"Total\"].quantile(0.75)\n",
        "IQR=Q3-Q1"
      ],
      "metadata": {
        "id": "nfbgsc6Etubj"
      },
      "execution_count": null,
      "outputs": []
    },
    {
      "cell_type": "markdown",
      "source": [
        "Verimiz için alt ve üst sınırları belirleyelim ki aykırı değerler tespit edilebilsin."
      ],
      "metadata": {
        "id": "SHJPlPbVfsGl"
      }
    },
    {
      "cell_type": "code",
      "source": [
        "altsınır=Q1-1.5*IQR\n",
        "ustsınır=Q3+1.5*IQR"
      ],
      "metadata": {
        "id": "WeEXK430fhBS"
      },
      "execution_count": null,
      "outputs": []
    },
    {
      "cell_type": "markdown",
      "source": [
        "Şimdi sırada aykırı değerleri çıkarmak var."
      ],
      "metadata": {
        "id": "-On3YK_BgszK"
      }
    },
    {
      "cell_type": "code",
      "source": [
        "veri=veri[~((veri[\"Total\"]>ustsınır)|(veri[\"Total\"]<altsınır))]\n",
        "print(veri.shape)"
      ],
      "metadata": {
        "colab": {
          "base_uri": "https://localhost:8080/"
        },
        "id": "HW4FB0gZfQ87",
        "outputId": "2bc77a3e-ca40-4cd3-cb3a-c8f350cde3c1"
      },
      "execution_count": null,
      "outputs": [
        {
          "output_type": "stream",
          "name": "stdout",
          "text": [
            "(366643, 9)\n"
          ]
        }
      ]
    },
    {
      "cell_type": "markdown",
      "source": [
        "Şuan 366643 veri kaldı ve 9 sütunumuz var."
      ],
      "metadata": {
        "id": "HRNn4mx0hL-q"
      }
    },
    {
      "cell_type": "code",
      "source": [
        "print(veri)"
      ],
      "metadata": {
        "colab": {
          "base_uri": "https://localhost:8080/"
        },
        "id": "NzhE9oMLhUfm",
        "outputId": "56d0b811-5131-49cf-e346-a48699218f26"
      },
      "execution_count": null,
      "outputs": [
        {
          "output_type": "stream",
          "name": "stdout",
          "text": [
            "       InvoiceNo StockCode                          Description  Quantity  \\\n",
            "0         536365    85123A   WHITE HANGING HEART T-LIGHT HOLDER         6   \n",
            "1         536365     71053                  WHITE METAL LANTERN         6   \n",
            "2         536365    84406B       CREAM CUPID HEARTS COAT HANGER         8   \n",
            "3         536365    84029G  KNITTED UNION FLAG HOT WATER BOTTLE         6   \n",
            "4         536365    84029E       RED WOOLLY HOTTIE WHITE HEART.         6   \n",
            "...          ...       ...                                  ...       ...   \n",
            "541904    581587     22613          PACK OF 20 SPACEBOY NAPKINS        12   \n",
            "541905    581587     22899         CHILDREN'S APRON DOLLY GIRL          6   \n",
            "541906    581587     23254        CHILDRENS CUTLERY DOLLY GIRL          4   \n",
            "541907    581587     23255      CHILDRENS CUTLERY CIRCUS PARADE         4   \n",
            "541908    581587     22138        BAKING SET 9 PIECE RETROSPOT          3   \n",
            "\n",
            "               InvoiceDate  UnitPrice  CustomerID         Country  Total  \n",
            "0      2010-12-01 08:26:00       2.55     17850.0  United Kingdom  15.30  \n",
            "1      2010-12-01 08:26:00       3.39     17850.0  United Kingdom  20.34  \n",
            "2      2010-12-01 08:26:00       2.75     17850.0  United Kingdom  22.00  \n",
            "3      2010-12-01 08:26:00       3.39     17850.0  United Kingdom  20.34  \n",
            "4      2010-12-01 08:26:00       3.39     17850.0  United Kingdom  20.34  \n",
            "...                    ...        ...         ...             ...    ...  \n",
            "541904 2011-12-09 12:50:00       0.85     12680.0          France  10.20  \n",
            "541905 2011-12-09 12:50:00       2.10     12680.0          France  12.60  \n",
            "541906 2011-12-09 12:50:00       4.15     12680.0          France  16.60  \n",
            "541907 2011-12-09 12:50:00       4.15     12680.0          France  16.60  \n",
            "541908 2011-12-09 12:50:00       4.95     12680.0          France  14.85  \n",
            "\n",
            "[366643 rows x 9 columns]\n"
          ]
        }
      ]
    },
    {
      "cell_type": "markdown",
      "source": [
        "Yukarıda görüldüğü gibi aykırı değerler verisetinden çıkarılmıştır. Ancak satır numaraları yani index numaraları aynı kalmıştır. Güncelde 366643 veri olmasına rağmen son index sayısı 541908 olarak kalmıştır. Şimdi bu indexleri yeniden numaralandıralım."
      ],
      "metadata": {
        "id": "lAYlAnG6heeu"
      }
    },
    {
      "cell_type": "code",
      "source": [
        "veri=veri.reset_index(drop=True)"
      ],
      "metadata": {
        "id": "G8VhxMMvh6Fv"
      },
      "execution_count": null,
      "outputs": []
    },
    {
      "cell_type": "code",
      "source": [
        "print(veri)"
      ],
      "metadata": {
        "colab": {
          "base_uri": "https://localhost:8080/"
        },
        "id": "TWDbxi7biAqk",
        "outputId": "380c1a32-8659-4a28-c0fe-c82754a2ca65"
      },
      "execution_count": null,
      "outputs": [
        {
          "output_type": "stream",
          "name": "stdout",
          "text": [
            "       InvoiceNo StockCode                          Description  Quantity  \\\n",
            "0         536365    85123A   WHITE HANGING HEART T-LIGHT HOLDER         6   \n",
            "1         536365     71053                  WHITE METAL LANTERN         6   \n",
            "2         536365    84406B       CREAM CUPID HEARTS COAT HANGER         8   \n",
            "3         536365    84029G  KNITTED UNION FLAG HOT WATER BOTTLE         6   \n",
            "4         536365    84029E       RED WOOLLY HOTTIE WHITE HEART.         6   \n",
            "...          ...       ...                                  ...       ...   \n",
            "366638    581587     22613          PACK OF 20 SPACEBOY NAPKINS        12   \n",
            "366639    581587     22899         CHILDREN'S APRON DOLLY GIRL          6   \n",
            "366640    581587     23254        CHILDRENS CUTLERY DOLLY GIRL          4   \n",
            "366641    581587     23255      CHILDRENS CUTLERY CIRCUS PARADE         4   \n",
            "366642    581587     22138        BAKING SET 9 PIECE RETROSPOT          3   \n",
            "\n",
            "               InvoiceDate  UnitPrice  CustomerID         Country  Total  \n",
            "0      2010-12-01 08:26:00       2.55     17850.0  United Kingdom  15.30  \n",
            "1      2010-12-01 08:26:00       3.39     17850.0  United Kingdom  20.34  \n",
            "2      2010-12-01 08:26:00       2.75     17850.0  United Kingdom  22.00  \n",
            "3      2010-12-01 08:26:00       3.39     17850.0  United Kingdom  20.34  \n",
            "4      2010-12-01 08:26:00       3.39     17850.0  United Kingdom  20.34  \n",
            "...                    ...        ...         ...             ...    ...  \n",
            "366638 2011-12-09 12:50:00       0.85     12680.0          France  10.20  \n",
            "366639 2011-12-09 12:50:00       2.10     12680.0          France  12.60  \n",
            "366640 2011-12-09 12:50:00       4.15     12680.0          France  16.60  \n",
            "366641 2011-12-09 12:50:00       4.15     12680.0          France  16.60  \n",
            "366642 2011-12-09 12:50:00       4.95     12680.0          France  14.85  \n",
            "\n",
            "[366643 rows x 9 columns]\n"
          ]
        }
      ]
    },
    {
      "cell_type": "markdown",
      "source": [
        "Verisetimizde her bir alışveriş ayrı bir satır olarak girilmiştir. Yani aynı kişi birden fazla alışveriş yaptığında her bir alışverişi bir satır olarak girilmiş. Dolayısıyla alışveriş yapan unique(benzersiz) kullanıcı sayısını bulalım."
      ],
      "metadata": {
        "id": "eQ7pvQwpiS4g"
      }
    },
    {
      "cell_type": "code",
      "source": [
        "print(veri[\"CustomerID\"].nunique())"
      ],
      "metadata": {
        "colab": {
          "base_uri": "https://localhost:8080/"
        },
        "id": "pn3WA0UMixJ_",
        "outputId": "69437221-db9e-487d-a7fd-97223d7ff53a"
      },
      "execution_count": null,
      "outputs": [
        {
          "output_type": "stream",
          "name": "stdout",
          "text": [
            "4194\n"
          ]
        }
      ]
    },
    {
      "cell_type": "markdown",
      "source": [
        "Benzersiz kullanıcı sayısı 4194'tür."
      ],
      "metadata": {
        "id": "_Tmi1xZbi7O_"
      }
    },
    {
      "cell_type": "markdown",
      "source": [
        "Şimdi de fatura adedine bakalım."
      ],
      "metadata": {
        "id": "eiZljr9dj0S2"
      }
    },
    {
      "cell_type": "code",
      "source": [
        "print(veri[\"InvoiceNo\"].nunique())"
      ],
      "metadata": {
        "colab": {
          "base_uri": "https://localhost:8080/"
        },
        "id": "etSlLkuwj3xv",
        "outputId": "0f70d581-2905-49ff-e8c1-69703e4b1cbe"
      },
      "execution_count": null,
      "outputs": [
        {
          "output_type": "stream",
          "name": "stdout",
          "text": [
            "16806\n"
          ]
        }
      ]
    },
    {
      "cell_type": "markdown",
      "source": [
        "Toplamda 16806 tane eşsiz fatura kesilmiş. Örneğin bir alışverişte müşteri 10 farklı ürün almış olsun. Verisetimize bu her ürün için ayrı bir satır olarak girilmiş. Yani 10 ürünlük tek bir alışveriş için aynı InvoiceNo'ya sahip 10 farklı satır yazılmış."
      ],
      "metadata": {
        "id": "rKTb_EGvj7Jy"
      }
    },
    {
      "cell_type": "code",
      "source": [
        "print(veri)"
      ],
      "metadata": {
        "colab": {
          "base_uri": "https://localhost:8080/"
        },
        "id": "Cu3d_pz-k0QY",
        "outputId": "3e613ea4-845e-4c35-8643-82b1e67ea55d"
      },
      "execution_count": null,
      "outputs": [
        {
          "output_type": "stream",
          "name": "stdout",
          "text": [
            "       InvoiceNo StockCode                          Description  Quantity  \\\n",
            "0         536365    85123A   WHITE HANGING HEART T-LIGHT HOLDER         6   \n",
            "1         536365     71053                  WHITE METAL LANTERN         6   \n",
            "2         536365    84406B       CREAM CUPID HEARTS COAT HANGER         8   \n",
            "3         536365    84029G  KNITTED UNION FLAG HOT WATER BOTTLE         6   \n",
            "4         536365    84029E       RED WOOLLY HOTTIE WHITE HEART.         6   \n",
            "...          ...       ...                                  ...       ...   \n",
            "366638    581587     22613          PACK OF 20 SPACEBOY NAPKINS        12   \n",
            "366639    581587     22899         CHILDREN'S APRON DOLLY GIRL          6   \n",
            "366640    581587     23254        CHILDRENS CUTLERY DOLLY GIRL          4   \n",
            "366641    581587     23255      CHILDRENS CUTLERY CIRCUS PARADE         4   \n",
            "366642    581587     22138        BAKING SET 9 PIECE RETROSPOT          3   \n",
            "\n",
            "               InvoiceDate  UnitPrice  CustomerID         Country  Total  \n",
            "0      2010-12-01 08:26:00       2.55     17850.0  United Kingdom  15.30  \n",
            "1      2010-12-01 08:26:00       3.39     17850.0  United Kingdom  20.34  \n",
            "2      2010-12-01 08:26:00       2.75     17850.0  United Kingdom  22.00  \n",
            "3      2010-12-01 08:26:00       3.39     17850.0  United Kingdom  20.34  \n",
            "4      2010-12-01 08:26:00       3.39     17850.0  United Kingdom  20.34  \n",
            "...                    ...        ...         ...             ...    ...  \n",
            "366638 2011-12-09 12:50:00       0.85     12680.0          France  10.20  \n",
            "366639 2011-12-09 12:50:00       2.10     12680.0          France  12.60  \n",
            "366640 2011-12-09 12:50:00       4.15     12680.0          France  16.60  \n",
            "366641 2011-12-09 12:50:00       4.15     12680.0          France  16.60  \n",
            "366642 2011-12-09 12:50:00       4.95     12680.0          France  14.85  \n",
            "\n",
            "[366643 rows x 9 columns]\n"
          ]
        }
      ]
    },
    {
      "cell_type": "code",
      "source": [
        "print(type(veri[\"CustomerID\"]))"
      ],
      "metadata": {
        "colab": {
          "base_uri": "https://localhost:8080/"
        },
        "id": "GQAX06bNrdBt",
        "outputId": "3dc1f652-b562-4753-bed7-eb6f76a6a5af"
      },
      "execution_count": null,
      "outputs": [
        {
          "output_type": "stream",
          "name": "stdout",
          "text": [
            "<class 'pandas.core.series.Series'>\n"
          ]
        }
      ]
    },
    {
      "cell_type": "markdown",
      "source": [
        "CustomerID değişkenine baktığımızda değerler \".0\" ile bitmiş. Bu \"0\" ları kaldıralım."
      ],
      "metadata": {
        "id": "jySH2pKrrDqa"
      }
    },
    {
      "cell_type": "code",
      "source": [
        "veri[\"CustomerID\"]=veri[\"CustomerID\"].astype(int)"
      ],
      "metadata": {
        "id": "Y5ceNxcJsThF"
      },
      "execution_count": null,
      "outputs": []
    },
    {
      "cell_type": "code",
      "source": [
        "print(veri)"
      ],
      "metadata": {
        "colab": {
          "base_uri": "https://localhost:8080/"
        },
        "id": "GDN_eiqFskSw",
        "outputId": "08004edd-eede-42be-b56d-4e9c006eefea"
      },
      "execution_count": null,
      "outputs": [
        {
          "output_type": "stream",
          "name": "stdout",
          "text": [
            "       InvoiceNo StockCode                          Description  Quantity  \\\n",
            "0         536365    85123A   WHITE HANGING HEART T-LIGHT HOLDER         6   \n",
            "1         536365     71053                  WHITE METAL LANTERN         6   \n",
            "2         536365    84406B       CREAM CUPID HEARTS COAT HANGER         8   \n",
            "3         536365    84029G  KNITTED UNION FLAG HOT WATER BOTTLE         6   \n",
            "4         536365    84029E       RED WOOLLY HOTTIE WHITE HEART.         6   \n",
            "...          ...       ...                                  ...       ...   \n",
            "366638    581587     22613          PACK OF 20 SPACEBOY NAPKINS        12   \n",
            "366639    581587     22899         CHILDREN'S APRON DOLLY GIRL          6   \n",
            "366640    581587     23254        CHILDRENS CUTLERY DOLLY GIRL          4   \n",
            "366641    581587     23255      CHILDRENS CUTLERY CIRCUS PARADE         4   \n",
            "366642    581587     22138        BAKING SET 9 PIECE RETROSPOT          3   \n",
            "\n",
            "               InvoiceDate  UnitPrice  CustomerID         Country  Total  \n",
            "0      2010-12-01 08:26:00       2.55       17850  United Kingdom  15.30  \n",
            "1      2010-12-01 08:26:00       3.39       17850  United Kingdom  20.34  \n",
            "2      2010-12-01 08:26:00       2.75       17850  United Kingdom  22.00  \n",
            "3      2010-12-01 08:26:00       3.39       17850  United Kingdom  20.34  \n",
            "4      2010-12-01 08:26:00       3.39       17850  United Kingdom  20.34  \n",
            "...                    ...        ...         ...             ...    ...  \n",
            "366638 2011-12-09 12:50:00       0.85       12680          France  10.20  \n",
            "366639 2011-12-09 12:50:00       2.10       12680          France  12.60  \n",
            "366640 2011-12-09 12:50:00       4.15       12680          France  16.60  \n",
            "366641 2011-12-09 12:50:00       4.15       12680          France  16.60  \n",
            "366642 2011-12-09 12:50:00       4.95       12680          France  14.85  \n",
            "\n",
            "[366643 rows x 9 columns]\n"
          ]
        }
      ]
    },
    {
      "cell_type": "markdown",
      "source": [
        "Veri tipleri doğru bir şekilde oluşturulmuş mu bakalım."
      ],
      "metadata": {
        "id": "Hx7yEuPqts6e"
      }
    },
    {
      "cell_type": "code",
      "source": [
        "print(veri.info())"
      ],
      "metadata": {
        "colab": {
          "base_uri": "https://localhost:8080/"
        },
        "id": "f6pIVuBOsmzK",
        "outputId": "7af5390a-4705-4028-e09c-340895efea26"
      },
      "execution_count": null,
      "outputs": [
        {
          "output_type": "stream",
          "name": "stdout",
          "text": [
            "<class 'pandas.core.frame.DataFrame'>\n",
            "RangeIndex: 366643 entries, 0 to 366642\n",
            "Data columns (total 9 columns):\n",
            " #   Column       Non-Null Count   Dtype         \n",
            "---  ------       --------------   -----         \n",
            " 0   InvoiceNo    366643 non-null  object        \n",
            " 1   StockCode    366643 non-null  object        \n",
            " 2   Description  366643 non-null  object        \n",
            " 3   Quantity     366643 non-null  int64         \n",
            " 4   InvoiceDate  366643 non-null  datetime64[ns]\n",
            " 5   UnitPrice    366643 non-null  float64       \n",
            " 6   CustomerID   366643 non-null  int64         \n",
            " 7   Country      366643 non-null  object        \n",
            " 8   Total        366643 non-null  float64       \n",
            "dtypes: datetime64[ns](1), float64(2), int64(2), object(4)\n",
            "memory usage: 25.2+ MB\n",
            "None\n"
          ]
        }
      ]
    },
    {
      "cell_type": "markdown",
      "source": [
        "Veri tipleri analize uygun şekilde oluşturulmuş."
      ],
      "metadata": {
        "id": "HJpkDhCs5N8p"
      }
    },
    {
      "cell_type": "code",
      "source": [
        "bugün=veri[\"InvoiceDate\"].max()\n",
        "print(bugün)"
      ],
      "metadata": {
        "id": "j_CUT30PsuUg",
        "colab": {
          "base_uri": "https://localhost:8080/"
        },
        "outputId": "51a3500e-5c94-491c-f2ca-9b61444b1631"
      },
      "execution_count": null,
      "outputs": [
        {
          "output_type": "stream",
          "name": "stdout",
          "text": [
            "2011-12-09 12:50:00\n"
          ]
        }
      ]
    },
    {
      "cell_type": "markdown",
      "source": [
        "Verisetimiz statik bir veriseti olduğundan en ileri tarihi bugün olarak kabul edeceğiz. Eğer dinamik bir veriseti ile çalışsaydık; anlık tarihi veren bir kod yazarak analizimizi sürekli güncel tutmamız gerekirdi.\n",
        "Burada en ileri tarih 2011-12-09 12:50:00'dır."
      ],
      "metadata": {
        "id": "nXv0_e485SlN"
      }
    },
    {
      "cell_type": "code",
      "source": [
        "import datetime as dt\n",
        "bugün=dt.datetime(2011,12,9,12,50,0)\n",
        "print(bugün)"
      ],
      "metadata": {
        "colab": {
          "base_uri": "https://localhost:8080/"
        },
        "id": "YiZQh-yg53qe",
        "outputId": "3f67f270-1a72-472e-efad-e7f69ba51968"
      },
      "execution_count": null,
      "outputs": [
        {
          "output_type": "stream",
          "name": "stdout",
          "text": [
            "2011-12-09 12:50:00\n"
          ]
        }
      ]
    },
    {
      "cell_type": "markdown",
      "source": [
        "Şuana kadar verisetimizi RFM analizine uygun hale getirdik. Şimdi yapmamız gereken önce Recency(Bugün-Müşterinin Son Alışveriş Tarihi)(Gün cinsinden olmalı.) bulmak."
      ],
      "metadata": {
        "id": "w641ELdD6cfD"
      }
    },
    {
      "cell_type": "code",
      "source": [
        "r=(bugün-veri.groupby(\"CustomerID\").agg({\"InvoiceDate\":\"max\"})).applymap(lambda x:x.days)\n",
        "print(r)"
      ],
      "metadata": {
        "colab": {
          "base_uri": "https://localhost:8080/"
        },
        "id": "cYnbAdhr7Hsg",
        "outputId": "45d751b7-8945-4280-b186-866cb1074ff3"
      },
      "execution_count": null,
      "outputs": [
        {
          "output_type": "stream",
          "name": "stdout",
          "text": [
            "            InvoiceDate\n",
            "CustomerID             \n",
            "12347                 1\n",
            "12348                74\n",
            "12349                18\n",
            "12350               309\n",
            "12352                35\n",
            "...                 ...\n",
            "18280               277\n",
            "18281               180\n",
            "18282                 7\n",
            "18283                 3\n",
            "18287                42\n",
            "\n",
            "[4194 rows x 1 columns]\n"
          ]
        },
        {
          "output_type": "stream",
          "name": "stderr",
          "text": [
            "<ipython-input-32-acbb41faaff2>:1: FutureWarning: DataFrame.applymap has been deprecated. Use DataFrame.map instead.\n",
            "  r=(bugün-veri.groupby(\"CustomerID\").agg({\"InvoiceDate\":\"max\"})).applymap(lambda x:x.days)\n"
          ]
        }
      ]
    },
    {
      "cell_type": "markdown",
      "source": [
        "Yukarıdaki kod ile benzersiz CustomerID 'leri sıraladık ve bu Id'lere sahip kişilerin bugün ile son alışveriş yaptığı tarih arasındaki geçen gün sayısını yazdırdık."
      ],
      "metadata": {
        "id": "X6TMA1gH72OY"
      }
    },
    {
      "cell_type": "markdown",
      "source": [
        "Recency'den sonra sıra Frequency'e geldi. Her benzersiz müşterinin, benzersiz fatura sayılarını bulursak; alışveriş sıklık sayısını hesaplarız."
      ],
      "metadata": {
        "id": "-77OAyVe8Lrm"
      }
    },
    {
      "cell_type": "code",
      "source": [
        "f = veri.groupby([\"CustomerID\", \"InvoiceNo\"]).agg({\"InvoiceNo\": \"count\"})\n",
        "print(f)"
      ],
      "metadata": {
        "colab": {
          "base_uri": "https://localhost:8080/"
        },
        "id": "C8D7_lKU8rNu",
        "outputId": "98c76b58-e41f-4e51-c4cf-36972029430a"
      },
      "execution_count": null,
      "outputs": [
        {
          "output_type": "stream",
          "name": "stdout",
          "text": [
            "                      InvoiceNo\n",
            "CustomerID InvoiceNo           \n",
            "12347      537626            29\n",
            "           542237            29\n",
            "           549222            23\n",
            "           556201            17\n",
            "           562032            20\n",
            "...                         ...\n",
            "18283      579673            52\n",
            "           580872            50\n",
            "18287      554065            25\n",
            "           570715            31\n",
            "           573167             2\n",
            "\n",
            "[16806 rows x 1 columns]\n"
          ]
        }
      ]
    },
    {
      "cell_type": "code",
      "source": [
        "f=f.groupby(\"CustomerID\").agg({\"InvoiceNo\":\"count\"})\n",
        "print(f)"
      ],
      "metadata": {
        "colab": {
          "base_uri": "https://localhost:8080/"
        },
        "id": "JK6l1EQN9YY_",
        "outputId": "3bcc8224-30af-4f6b-b7f1-dbf9351ab0a0"
      },
      "execution_count": null,
      "outputs": [
        {
          "output_type": "stream",
          "name": "stdout",
          "text": [
            "            InvoiceNo\n",
            "CustomerID           \n",
            "12347               7\n",
            "12348               4\n",
            "12349               1\n",
            "12350               1\n",
            "12352               7\n",
            "...               ...\n",
            "18280               1\n",
            "18281               1\n",
            "18282               2\n",
            "18283              16\n",
            "18287               3\n",
            "\n",
            "[4194 rows x 1 columns]\n"
          ]
        }
      ]
    },
    {
      "cell_type": "markdown",
      "source": [
        "Son olarak Monetary(Müşteri bugüne kadar bize ne kadar para kazandırdı?) bulalım."
      ],
      "metadata": {
        "id": "N7cTBPSn9rmj"
      }
    },
    {
      "cell_type": "code",
      "source": [
        "m=veri.groupby(\"CustomerID\").agg({\"Total\":\"sum\"})\n",
        "print(m)"
      ],
      "metadata": {
        "colab": {
          "base_uri": "https://localhost:8080/"
        },
        "id": "EQ8kkN7i9z9c",
        "outputId": "92fe053f-75c4-44b0-b12a-4506a69fb1a3"
      },
      "execution_count": null,
      "outputs": [
        {
          "output_type": "stream",
          "name": "stdout",
          "text": [
            "              Total\n",
            "CustomerID         \n",
            "12347       3174.62\n",
            "12348        601.64\n",
            "12349       1145.35\n",
            "12350        334.40\n",
            "12352       1505.74\n",
            "...             ...\n",
            "18280        180.60\n",
            "18281         80.82\n",
            "18282        178.05\n",
            "18283       2094.88\n",
            "18287       1068.74\n",
            "\n",
            "[4194 rows x 1 columns]\n"
          ]
        }
      ]
    },
    {
      "cell_type": "markdown",
      "source": [
        "Elimizde buradan itibaren RFM analizi için gerekli olan Recency, Frequency ve Monetary değişkenleri var. Bunları tek tablo ile göz önüne serelim. Yani RFM tablosunu oluşturalım."
      ],
      "metadata": {
        "id": "MasMSwZv99jo"
      }
    },
    {
      "cell_type": "code",
      "source": [
        "RFM=r.merge(f,on=\"CustomerID\").merge(m,on=\"CustomerID\")\n",
        "RFM=RFM.reset_index()\n",
        "RFM=RFM.rename(columns={\"InvoiceDate\":\"Recency\",\"InvoiceNo\":\"Frequency\",\"Total\":\"Monetary\",\"CustomerID\":\"Customer\"})\n",
        "print(RFM)"
      ],
      "metadata": {
        "colab": {
          "base_uri": "https://localhost:8080/"
        },
        "id": "iO4--6zL-RsV",
        "outputId": "bb096cd3-a0a9-484e-b156-72aa13f83ec0"
      },
      "execution_count": null,
      "outputs": [
        {
          "output_type": "stream",
          "name": "stdout",
          "text": [
            "      Customer  Recency  Frequency  Monetary\n",
            "0        12347        1          7   3174.62\n",
            "1        12348       74          4    601.64\n",
            "2        12349       18          1   1145.35\n",
            "3        12350      309          1    334.40\n",
            "4        12352       35          7   1505.74\n",
            "...        ...      ...        ...       ...\n",
            "4189     18280      277          1    180.60\n",
            "4190     18281      180          1     80.82\n",
            "4191     18282        7          2    178.05\n",
            "4192     18283        3         16   2094.88\n",
            "4193     18287       42          3   1068.74\n",
            "\n",
            "[4194 rows x 4 columns]\n"
          ]
        }
      ]
    },
    {
      "cell_type": "markdown",
      "source": [
        "K-MEANS Algoritması ile Kümeleme Analizi"
      ],
      "metadata": {
        "id": "OYnTTefTAAR_"
      }
    },
    {
      "cell_type": "code",
      "source": [
        "from sklearn.preprocessing import MinMaxScaler"
      ],
      "metadata": {
        "id": "t91ZUS0pASsG"
      },
      "execution_count": null,
      "outputs": []
    },
    {
      "cell_type": "code",
      "source": [
        "df=RFM.iloc[:,1:]\n",
        "print(df)"
      ],
      "metadata": {
        "colab": {
          "base_uri": "https://localhost:8080/"
        },
        "id": "I7klW5wp_2VA",
        "outputId": "8f9240f8-54c4-4181-83de-5b9e0e8e1d88"
      },
      "execution_count": null,
      "outputs": [
        {
          "output_type": "stream",
          "name": "stdout",
          "text": [
            "      Recency  Frequency  Monetary\n",
            "0           1          7   3174.62\n",
            "1          74          4    601.64\n",
            "2          18          1   1145.35\n",
            "3         309          1    334.40\n",
            "4          35          7   1505.74\n",
            "...       ...        ...       ...\n",
            "4189      277          1    180.60\n",
            "4190      180          1     80.82\n",
            "4191        7          2    178.05\n",
            "4192        3         16   2094.88\n",
            "4193       42          3   1068.74\n",
            "\n",
            "[4194 rows x 3 columns]\n"
          ]
        }
      ]
    },
    {
      "cell_type": "markdown",
      "source": [
        "  Öncelikle normalizasyon işlemi yapalım."
      ],
      "metadata": {
        "id": "uSjXmtIsA3eC"
      }
    },
    {
      "cell_type": "code",
      "source": [
        "sc=MinMaxScaler()\n",
        "dfnorm=sc.fit_transform(df)\n",
        "dfnorm=pd.DataFrame(dfnorm,columns=df.columns)\n",
        "print(dfnorm)"
      ],
      "metadata": {
        "colab": {
          "base_uri": "https://localhost:8080/"
        },
        "id": "dR4L7OaaAjyW",
        "outputId": "7b945472-a61c-4410-d654-3265dcb6f560"
      },
      "execution_count": null,
      "outputs": [
        {
          "output_type": "stream",
          "name": "stdout",
          "text": [
            "       Recency  Frequency  Monetary\n",
            "0     0.002681      0.030  0.035451\n",
            "1     0.198391      0.015  0.006701\n",
            "2     0.048257      0.000  0.012777\n",
            "3     0.828418      0.000  0.003715\n",
            "4     0.093834      0.030  0.016804\n",
            "...        ...        ...       ...\n",
            "4189  0.742627      0.000  0.001997\n",
            "4190  0.482574      0.000  0.000882\n",
            "4191  0.018767      0.005  0.001968\n",
            "4192  0.008043      0.075  0.023386\n",
            "4193  0.112601      0.010  0.011921\n",
            "\n",
            "[4194 rows x 3 columns]\n"
          ]
        }
      ]
    },
    {
      "cell_type": "code",
      "source": [
        "from yellowbrick.cluster import KElbowVisualizer\n",
        "from sklearn.cluster import KMeans"
      ],
      "metadata": {
        "id": "A8VQ3ZhpBCPz"
      },
      "execution_count": null,
      "outputs": []
    },
    {
      "cell_type": "code",
      "source": [
        "kmodel=KMeans(random_state=0)\n",
        "grafik=KElbowVisualizer(kmodel,k=(2,10))\n",
        "grafik.fit(dfnorm)\n",
        "grafik.poof()"
      ],
      "metadata": {
        "colab": {
          "base_uri": "https://localhost:8080/",
          "height": 541
        },
        "id": "sRoXCjeZBHlv",
        "outputId": "d137ff29-3f0c-45c3-d12d-49e1208fe6bf"
      },
      "execution_count": null,
      "outputs": [
        {
          "output_type": "display_data",
          "data": {
            "text/plain": [
              "<Figure size 800x550 with 2 Axes>"
            ],
            "image/png": "[encoded data removed]"
          },
          "metadata": {}
        },
        {
          "output_type": "execute_result",
          "data": {
            "text/plain": [
              "<Axes: title={'center': 'Distortion Score Elbow for KMeans Clustering'}, xlabel='k', ylabel='distortion score'>"
            ]
          },
          "metadata": {},
          "execution_count": 41
        }
      ]
    },
    {
      "cell_type": "markdown",
      "source": [
        "Yukarıdaki grafikte verisetimiz için optimal olarak 4 ayrı küme yapılması önerilmektedir."
      ],
      "metadata": {
        "id": "g2Wp7tONBjgX"
      }
    },
    {
      "cell_type": "code",
      "source": [
        "kmodel=KMeans(random_state=0,n_clusters=4,init=\"k-means++\")\n",
        "kfit=kmodel.fit(dfnorm)\n",
        "labels=kfit.labels_\n",
        "\n",
        "RFM[\"Labels\"]=labels\n",
        "\n",
        "sns.scatterplot(x=\"Labels\", y=\"Customer\", data=RFM, hue=labels, palette=\"deep\")\n",
        "plt.xlim([-1,5])\n",
        "plt.show()"
      ],
      "metadata": {
        "colab": {
          "base_uri": "https://localhost:8080/",
          "height": 503
        },
        "id": "tzEbYJeiB2ZO",
        "outputId": "8217bd44-89a7-4629-c7b9-7e59981fe80c"
      },
      "execution_count": null,
      "outputs": [
        {
          "output_type": "display_data",
          "data": {
            "text/plain": [
              "<Figure size 800x550 with 1 Axes>"
            ],
            "image/png": "[encoded data removed]"
          },
          "metadata": {}
        }
      ]
    },
    {
      "cell_type": "code",
      "source": [
        "print(RFM.groupby(\"Labels\")[\"Customer\"].count())"
      ],
      "metadata": {
        "colab": {
          "base_uri": "https://localhost:8080/"
        },
        "id": "YfG2mUSqFHHQ",
        "outputId": "58554825-01f4-4417-9a2e-7a6461700b9d"
      },
      "execution_count": null,
      "outputs": [
        {
          "output_type": "stream",
          "name": "stdout",
          "text": [
            "Labels\n",
            "0    2047\n",
            "1     613\n",
            "2     480\n",
            "3    1054\n",
            "Name: Customer, dtype: int64\n"
          ]
        }
      ]
    },
    {
      "cell_type": "code",
      "source": [
        "print(RFM.groupby(\"Labels\").mean().iloc[:,1:])"
      ],
      "metadata": {
        "colab": {
          "base_uri": "https://localhost:8080/"
        },
        "id": "jNvgrrExEGVb",
        "outputId": "ed8130c1-ddeb-4c00-ef00-37c28ad70866"
      },
      "execution_count": null,
      "outputs": [
        {
          "output_type": "stream",
          "name": "stdout",
          "text": [
            "           Recency  Frequency     Monetary\n",
            "Labels                                    \n",
            "0        18.258915   6.033708  1600.294378\n",
            "1       189.349103   1.849918   414.972073\n",
            "2       307.245833   1.327083   278.799083\n",
            "3        78.835863   2.546490   694.622583\n"
          ]
        }
      ]
    },
    {
      "cell_type": "markdown",
      "source": [
        "Bu gruplamalara göre müşteri gruplarına özel reklam kampanyaları vs. yapılabilir."
      ],
      "metadata": {
        "id": "6UxjC7NXEp2p"
      }
    }
  ]
}